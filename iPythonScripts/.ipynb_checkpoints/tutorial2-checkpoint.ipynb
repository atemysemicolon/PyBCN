{
 "cells": [
  {
   "cell_type": "code",
   "execution_count": null,
   "metadata": {
    "collapsed": false
   },
   "outputs": [],
   "source": [
    "%matplotlib inline\n",
    "from skimage import filters,io,data,color,feature,img_as_float\n",
    "\n",
    "import numpy as np\n",
    "\n",
    "img = img_as_float(data.checkerboard());\n",
    "print img.shape\n",
    "io.imshow(img)"
   ]
  },
  {
   "cell_type": "markdown",
   "metadata": {},
   "source": [
    "####Add some noise"
   ]
  },
  {
   "cell_type": "code",
   "execution_count": null,
   "metadata": {
    "collapsed": false
   },
   "outputs": [],
   "source": [
    "noisy = img + 0.6*img.std() * np.random.random(img.shape)\n",
    "noisy = np.clip(noisy,0,1)\n",
    "io.imshow(noisy)"
   ]
  },
  {
   "cell_type": "markdown",
   "metadata": {},
   "source": [
    "####Remove the noise!"
   ]
  },
  {
   "cell_type": "code",
   "execution_count": null,
   "metadata": {
    "collapsed": false
   },
   "outputs": [],
   "source": [
    "blurred = filters.gaussian_filter(noisy,2)\n",
    "io.imshow(np.uint8(blurred*255))"
   ]
  },
  {
   "cell_type": "markdown",
   "metadata": {},
   "source": [
    "####Lets get more complex"
   ]
  },
  {
   "cell_type": "code",
   "execution_count": null,
   "metadata": {
    "collapsed": false
   },
   "outputs": [],
   "source": [
    "from math import sqrt\n",
    "img_2 = data.hubble_deep_field()\n",
    "img_2 = img_2[0:500,0:500]\n",
    "io.imshow(img_2)"
   ]
  },
  {
   "cell_type": "code",
   "execution_count": null,
   "metadata": {
    "collapsed": true
   },
   "outputs": [],
   "source": [
    "img_gray = color.rgb2gray(img_2)\n",
    "blobs_log = feature.blob_log(img_gray, max_sigma=30, num_sigma=10, threshold=0.1)\n",
    "blobs_log[:,2] = blobs_log[:,2] * sqrt(2)\n",
    "\n",
    "blobs_dog = feature.blob_dog(img_gray, max_sigma=30, threshold=.1)\n",
    "blobs_dog[:, 2] = blobs_dog[:, 2] * sqrt(2)\n"
   ]
  },
  {
   "cell_type": "code",
   "execution_count": null,
   "metadata": {
    "collapsed": true
   },
   "outputs": [],
   "source": [
    "def disp_blob(blobs,title):\n",
    "    from matplotlib import pyplot as plt\n",
    "    fig,ax = plt.subplots(1,1)\n",
    "    ax.set_title(title)\n",
    "    ax.imshow(img_2, interpolation='nearest')\n",
    "       \n",
    "\n",
    "    for blob in blobs:        \n",
    "        y, x, r = blob\n",
    "        c = plt.Circle((x, y), r, color='yellow', linewidth=2, fill=False)\n",
    "        ax.add_patch(c)\n",
    "\n",
    "    return None"
   ]
  },
  {
   "cell_type": "code",
   "execution_count": null,
   "metadata": {
    "collapsed": false
   },
   "outputs": [],
   "source": [
    "disp_blob(blobs_log,\"LoG\");"
   ]
  },
  {
   "cell_type": "code",
   "execution_count": null,
   "metadata": {
    "collapsed": false
   },
   "outputs": [],
   "source": [
    "disp_blob(blobs_dog,\"DoG\");"
   ]
  }
 ],
 "metadata": {
  "kernelspec": {
   "display_name": "Python 2",
   "language": "python",
   "name": "python2"
  },
  "language_info": {
   "codemirror_mode": {
    "name": "ipython",
    "version": 2
   },
   "file_extension": ".py",
   "mimetype": "text/x-python",
   "name": "python",
   "nbconvert_exporter": "python",
   "pygments_lexer": "ipython2",
   "version": "2.7.10"
  }
 },
 "nbformat": 4,
 "nbformat_minor": 0
}

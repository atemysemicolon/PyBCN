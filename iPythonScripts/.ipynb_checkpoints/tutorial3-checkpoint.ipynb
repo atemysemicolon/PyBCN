{
 "cells": [
  {
   "cell_type": "code",
   "execution_count": null,
   "metadata": {
    "collapsed": true
   },
   "outputs": [],
   "source": [
    "%matplotlib inline\n",
    "from skimage import io, color,data,segmentation\n",
    "import numpy as np"
   ]
  },
  {
   "cell_type": "markdown",
   "metadata": {},
   "source": [
    "####Load some cool image"
   ]
  },
  {
   "cell_type": "code",
   "execution_count": null,
   "metadata": {
    "collapsed": false
   },
   "outputs": [],
   "source": [
    "img = data.hubble_deep_field();\n",
    "img_gray = color.rgb2gray(img)\n",
    "io.imshow(img)"
   ]
  },
  {
   "cell_type": "markdown",
   "metadata": {},
   "source": [
    "####Lets do some superpixel stuff"
   ]
  },
  {
   "cell_type": "code",
   "execution_count": null,
   "metadata": {
    "collapsed": false
   },
   "outputs": [],
   "source": [
    "segment_map= segmentation.slic(img,400, compactness=30); #100 is default\n",
    "img_contours = segmentation.mark_boundaries(img_gray,segment_map)\n",
    "io.imshow(img_contours)"
   ]
  },
  {
   "cell_type": "code",
   "execution_count": null,
   "metadata": {
    "collapsed": false
   },
   "outputs": [],
   "source": [
    "print segment_map"
   ]
  },
  {
   "cell_type": "markdown",
   "metadata": {},
   "source": [
    "####Find the Best(??) superpixels"
   ]
  },
  {
   "cell_type": "code",
   "execution_count": null,
   "metadata": {
    "collapsed": true
   },
   "outputs": [],
   "source": [
    "\n",
    "def calc_statistics(img,segments):\n",
    "    sup_brightness = [np.mean(img[segments==i]) for i in range(0,np.amax(segments)+1)]\n",
    "    return sup_brightness\n",
    "        \n",
    "def look_at_brightest(superpixel_intensities, nr_select=3):\n",
    "    thresh = sorted(superpixel_intensities)[-1*nr_select]\n",
    "    return thresh"
   ]
  },
  {
   "cell_type": "code",
   "execution_count": null,
   "metadata": {
    "collapsed": true
   },
   "outputs": [],
   "source": [
    "sup_intensities = calc_statistics(img_gray,segment_map);\n",
    "sup_thresh = look_at_brightest(sup_intensities,10)    \n",
    "sup_selected = [1 if s > sup_thresh else 0 for s in sup_intensities]"
   ]
  },
  {
   "cell_type": "code",
   "execution_count": null,
   "metadata": {
    "collapsed": false
   },
   "outputs": [],
   "source": [
    "print sup_selected"
   ]
  },
  {
   "cell_type": "code",
   "execution_count": null,
   "metadata": {
    "collapsed": true
   },
   "outputs": [],
   "source": [
    "def process_finally(img,sup_selected,segments):\n",
    "    newimg = np.array(img, copy=True)\n",
    "    for s in range(0,np.amax(segments)+1):\n",
    "        newimg[np.where(segments==s)] = sup_selected[s] * img[np.where(segments==s)]\n",
    "        \n",
    "    return newimg "
   ]
  },
  {
   "cell_type": "code",
   "execution_count": null,
   "metadata": {
    "collapsed": false
   },
   "outputs": [],
   "source": [
    "img_processed = process_finally(img, sup_selected, segment_map)\n",
    "io.imshow(img_processed)\n",
    "    #np.vstack((img,img_processed)))"
   ]
  }
 ],
 "metadata": {
  "kernelspec": {
   "display_name": "Python 2",
   "language": "python",
   "name": "python2"
  },
  "language_info": {
   "codemirror_mode": {
    "name": "ipython",
    "version": 2
   },
   "file_extension": ".py",
   "mimetype": "text/x-python",
   "name": "python",
   "nbconvert_exporter": "python",
   "pygments_lexer": "ipython2",
   "version": "2.7.10"
  }
 },
 "nbformat": 4,
 "nbformat_minor": 0
}
